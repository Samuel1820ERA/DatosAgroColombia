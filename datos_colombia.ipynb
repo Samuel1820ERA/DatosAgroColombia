{
  "nbformat": 4,
  "nbformat_minor": 0,
  "metadata": {
    "colab": {
      "provenance": [],
      "mount_file_id": "1fDdH6L4QLcgeuwgGFpWqNJ5xfS6gKPdd",
      "authorship_tag": "ABX9TyOMF65qrxM6fFQRDwKJrLpJ",
      "include_colab_link": true
    },
    "kernelspec": {
      "name": "python3",
      "display_name": "Python 3"
    },
    "language_info": {
      "name": "python"
    }
  },
  "cells": [
    {
      "cell_type": "markdown",
      "metadata": {
        "id": "view-in-github",
        "colab_type": "text"
      },
      "source": [
        "<a href=\"https://colab.research.google.com/github/Samuel1820ERA/DatosAgroColombia/blob/main/datos_colombia.ipynb\" target=\"_parent\"><img src=\"https://colab.research.google.com/assets/colab-badge.svg\" alt=\"Open In Colab\"/></a>"
      ]
    },
    {
      "cell_type": "code",
      "source": [
        "import pandas as pd\n",
        "import os\n",
        "\n",
        "# ----------------------------------------\n",
        "# 1. Definir ruta de trabajo\n",
        "# ----------------------------------------\n",
        "ruta_carpeta = \"/content/drive/MyDrive/COLOMBIA/Datos\"\n",
        "# os.makedirs(ruta_carpeta, exist_ok=True) # Removed as os.makedirs is not supported for Google Drive paths\n",
        "\n",
        "# ----------------------------------------\n",
        "# 2. Cargar archivos\n",
        "# ----------------------------------------\n",
        "archivo1 = os.path.join(ruta_carpeta, \"datos_2006_2018.xlsx\")\n",
        "archivo2 = os.path.join(ruta_carpeta, \"datos_2019_2024.xlsx\")\n",
        "\n",
        "df1 = pd.read_excel(archivo1)\n",
        "df2 = pd.read_excel(archivo2)\n",
        "\n",
        "# ----------------------------------------\n",
        "# 3. Normalizar nombres de columnas\n",
        "# ----------------------------------------\n",
        "def limpiar_columnas(cols):\n",
        "    return (\n",
        "        cols.str.strip()                           # quitar espacios inicio/fin\n",
        "            .str.lower()                           # todo en minúsculas\n",
        "            .str.replace(\" \", \"_\", regex=True)     # espacios -> _\n",
        "            .str.replace(r\"[^a-z0-9_]\", \"\", regex=True)  # quitar caracteres raros\n",
        "    )\n",
        "\n",
        "df1.columns = limpiar_columnas(df1.columns)\n",
        "df2.columns = limpiar_columnas(df2.columns)\n",
        "\n",
        "print(\"Columnas en df1:\", len(df1.columns), list(df1.columns))\n",
        "print(\"Columnas en df2:\", len(df2.columns), list(df2.columns))\n",
        "\n",
        "# ----------------------------------------\n",
        "# 4. Concatenar bases\n",
        "# ----------------------------------------\n",
        "df_final = pd.concat([df1, df2], axis=0, join=\"outer\", ignore_index=True)\n",
        "\n",
        "# ----------------------------------------\n",
        "# 5. Revisar duplicados de nombres de columnas\n",
        "# ----------------------------------------\n",
        "duplicadas = df_final.columns[df_final.columns.duplicated()].tolist()\n",
        "if duplicadas:\n",
        "    print(\" Columnas duplicadas detectadas:\", duplicadas)\n",
        "    df_final = df_final.loc[:, ~df_final.columns.duplicated()]  # dejar solo una copia\n",
        "else:\n",
        "    print(\" No hay columnas duplicadas\")\n",
        "\n",
        "# ----------------------------------------\n",
        "# 6. Guardar resultado\n",
        "# ----------------------------------------\n",
        "archivo_salida = os.path.join(ruta_carpeta, \"datos_2006_2024.xlsx\")\n",
        "df_final.to_excel(archivo_salida, index=False)\n",
        "\n",
        "print(\"\\n Archivo guardado en:\", archivo_salida)\n",
        "print(\"Filas totales:\", df_final.shape[0])\n",
        "print(\"Columnas totales:\", df_final.shape[1])"
      ],
      "metadata": {
        "colab": {
          "base_uri": "https://localhost:8080/"
        },
        "id": "Sebfni4ZBMVo",
        "outputId": "f77e0dd1-8517-4da6-c17c-189468846ba8"
      },
      "execution_count": null,
      "outputs": [
        {
          "output_type": "stream",
          "name": "stdout",
          "text": [
            "Columnas en df1: 17 ['cdigo_departamento', 'departamento', 'cdigo_municipio', 'municipio', 'grupo_cultivo', 'subgrupo_de_cultivo', 'cultivo', 'desagregacin_cultivo', 'ao', 'periodo', 'rea_sembradaha', 'rea_cosechadaha', 'produccint', 'rendimientotha', 'estado_fsico_del_cultivo', 'nombre_cientfico_del_cultivo', 'ciclo_del_cultivo']\n",
            "Columnas en df2: 17 ['cdigo_departamento', 'departamento', 'cdigo_municipio', 'municipio', 'desagregacin_cultivo', 'cultivo', 'ciclo_del_cultivo', 'grupo_cultivo', 'subgrupo_de_cultivo', 'ao', 'periodo', 'rea_sembrada_ha', 'rea_cosechada_ha', 'produccin_t', 'rendimiento_tha', 'nombre_cientfico_del_cultivo', 'estado_fsico_del_cultivo']\n",
            " No hay columnas duplicadas\n",
            "\n",
            " Archivo guardado en: /content/drive/MyDrive/COLOMBIA/Datos/datos_2006_2024.xlsx\n",
            "Filas totales: 351920\n",
            "Columnas totales: 21\n"
          ]
        }
      ]
    },
    {
      "cell_type": "markdown",
      "source": [
        "Dado que la normalización de nombres de columnas se realizó antes de la concatenación, estas columnas adicionales están vacías (NaN values) y no contienen información relevante, ya que los datos de esas columnas se unieron correctamente bajo los nombres de columnas normalizados. Por lo tanto, la presencia de estas columnas adicionales vacías no afecta la integridad ni la calidad de los datos combinados.\n"
      ],
      "metadata": {
        "id": "TCNpW5hKXvJk"
      }
    },
    {
      "cell_type": "markdown",
      "metadata": {
        "id": "661c04b1"
      },
      "source": [
        "### Análisis Exploratorio de Datos"
      ]
    },
    {
      "cell_type": "markdown",
      "metadata": {
        "id": "f3550cfe"
      },
      "source": [
        "Primero, mostraremos la cantidad de filas y columnas en el conjunto de datos."
      ]
    },
    {
      "cell_type": "code",
      "source": [],
      "metadata": {
        "id": "lBfk5PcyXwjG"
      },
      "execution_count": null,
      "outputs": []
    },
    {
      "cell_type": "code",
      "metadata": {
        "colab": {
          "base_uri": "https://localhost:8080/"
        },
        "id": "7fec6bcf",
        "outputId": "96512d88-537f-4d39-eef3-8d281828baaf"
      },
      "source": [
        "print(\"Cantidad de filas:\", df_final.shape[0])\n",
        "print(\"Cantidad de columnas:\", df_final.shape[1])\n",
        "\n",
        "missing_values = df_final.isnull().sum()\n",
        "print(\"\\nCantidad de datos faltantes por columna:\")\n",
        "print(missing_values)\n",
        "\n",
        "unique_crop_groups = df_final['grupo_cultivo'].nunique()\n",
        "print(\"\\nCantidad de grupos de cultivo únicos:\", unique_crop_groups)"
      ],
      "execution_count": null,
      "outputs": [
        {
          "output_type": "stream",
          "name": "stdout",
          "text": [
            "Cantidad de filas: 351920\n",
            "Cantidad de columnas: 21\n",
            "\n",
            "Cantidad de datos faltantes por columna:\n",
            "cdigo_departamento                   0\n",
            "departamento                         0\n",
            "cdigo_municipio                      0\n",
            "municipio                            0\n",
            "grupo_cultivo                        0\n",
            "subgrupo_de_cultivo                  0\n",
            "cultivo                              0\n",
            "desagregacin_cultivo                 0\n",
            "ao                                   0\n",
            "periodo                              0\n",
            "rea_sembradaha                  141073\n",
            "rea_cosechadaha                 141073\n",
            "produccint                      141073\n",
            "rendimientotha                  144631\n",
            "estado_fsico_del_cultivo             0\n",
            "nombre_cientfico_del_cultivo      2983\n",
            "ciclo_del_cultivo                    0\n",
            "rea_sembrada_ha                 210847\n",
            "rea_cosechada_ha                210847\n",
            "produccin_t                     210847\n",
            "rendimiento_tha                 210847\n",
            "dtype: int64\n",
            "\n",
            "Cantidad de grupos de cultivo únicos: 21\n"
          ]
        }
      ]
    },
    {
      "cell_type": "markdown",
      "metadata": {
        "id": "99b5f8da"
      },
      "source": [
        "Luego, identificaremos la cantidad de datos faltantes por columna."
      ]
    },
    {
      "cell_type": "code",
      "metadata": {
        "colab": {
          "base_uri": "https://localhost:8080/"
        },
        "id": "20be8b72",
        "outputId": "7373d116-47d9-4841-fd61-ddfe0d33bbad"
      },
      "source": [
        "missing_values = df_final.isnull().sum()\n",
        "print(\"Cantidad de datos faltantes por columna:\")\n",
        "print(missing_values)"
      ],
      "execution_count": null,
      "outputs": [
        {
          "output_type": "stream",
          "name": "stdout",
          "text": [
            "Cantidad de datos faltantes por columna:\n",
            "cdigo_departamento                   0\n",
            "departamento                         0\n",
            "cdigo_municipio                      0\n",
            "municipio                            0\n",
            "grupo_cultivo                        0\n",
            "subgrupo_de_cultivo                  0\n",
            "cultivo                              0\n",
            "desagregacin_cultivo                 0\n",
            "ao                                   0\n",
            "periodo                              0\n",
            "rea_sembradaha                  141073\n",
            "rea_cosechadaha                 141073\n",
            "produccint                      141073\n",
            "rendimientotha                  144631\n",
            "estado_fsico_del_cultivo             0\n",
            "nombre_cientfico_del_cultivo      2983\n",
            "ciclo_del_cultivo                    0\n",
            "rea_sembrada_ha                 210847\n",
            "rea_cosechada_ha                210847\n",
            "produccin_t                     210847\n",
            "rendimiento_tha                 210847\n",
            "dtype: int64\n"
          ]
        }
      ]
    },
    {
      "cell_type": "markdown",
      "metadata": {
        "id": "b81f7dbb"
      },
      "source": [
        "A continuación, contaremos la cantidad de grupos de cultivo únicos."
      ]
    },
    {
      "cell_type": "code",
      "metadata": {
        "colab": {
          "base_uri": "https://localhost:8080/"
        },
        "id": "d661b050",
        "outputId": "9c43eabd-f695-4008-a5cb-795d8dfc872c"
      },
      "source": [
        "unique_crop_groups = df_final['grupo_cultivo'].nunique()\n",
        "print(\"\\nCantidad de grupos de cultivo únicos:\", unique_crop_groups)"
      ],
      "execution_count": null,
      "outputs": [
        {
          "output_type": "stream",
          "name": "stdout",
          "text": [
            "\n",
            "Cantidad de grupos de cultivo únicos: 21\n"
          ]
        }
      ]
    },
    {
      "cell_type": "markdown",
      "metadata": {
        "id": "1715f6a0"
      },
      "source": [
        "Ahora, encontraremos los 10 principales grupos de cultivo por área sembrada."
      ]
    },
    {
      "cell_type": "code",
      "metadata": {
        "colab": {
          "base_uri": "https://localhost:8080/",
          "height": 1000
        },
        "id": "ca226fb1",
        "outputId": "a4fcf07e-880d-4d06-b804-0dc44c3a9cc0"
      },
      "source": [
        "import matplotlib.pyplot as plt\n",
        "import seaborn as sns\n",
        "\n",
        "top_10_crops = df_final.groupby('grupo_cultivo')['rea_sembradaha'].sum().nlargest(10)\n",
        "print(\"\\nLos 10 grupos de cultivo con mayor área sembrada:\")\n",
        "display(top_10_crops)\n",
        "\n",
        "plt.figure(figsize=(12, 6))\n",
        "sns.barplot(x=top_10_crops.index, y=top_10_crops.values, hue=top_10_crops.index, palette='viridis', legend=False)\n",
        "plt.xticks(rotation=45, ha='right')\n",
        "plt.xlabel('Grupo de Cultivo')\n",
        "plt.ylabel('Área Sembrada (ha)')\n",
        "plt.title('Los 10 Principales Grupos de Cultivo por Área Sembrada')\n",
        "plt.tight_layout()\n",
        "plt.show()"
      ],
      "execution_count": null,
      "outputs": [
        {
          "output_type": "stream",
          "name": "stdout",
          "text": [
            "\n",
            "Los 10 grupos de cultivo con mayor área sembrada:\n"
          ]
        },
        {
          "output_type": "display_data",
          "data": {
            "text/plain": [
              "grupo_cultivo\n",
              "OTROS PERMANENTES        1.893753e+07\n",
              "CEREALES                 1.475517e+07\n",
              "TUBERCULOS Y PLATANOS    1.061708e+07\n",
              "OLEAGINOSAS              6.112380e+06\n",
              "FRUTALES                 4.874503e+06\n",
              "LEGUMINOSAS              2.635698e+06\n",
              "HORTALIZAS               1.047659e+06\n",
              "FIBRAS                   6.422523e+05\n",
              "FORESTALES               5.593788e+05\n",
              "OTROS TRANSITORIOS       9.084350e+04\n",
              "Name: rea_sembradaha, dtype: float64"
            ],
            "text/html": [
              "<div>\n",
              "<style scoped>\n",
              "    .dataframe tbody tr th:only-of-type {\n",
              "        vertical-align: middle;\n",
              "    }\n",
              "\n",
              "    .dataframe tbody tr th {\n",
              "        vertical-align: top;\n",
              "    }\n",
              "\n",
              "    .dataframe thead th {\n",
              "        text-align: right;\n",
              "    }\n",
              "</style>\n",
              "<table border=\"1\" class=\"dataframe\">\n",
              "  <thead>\n",
              "    <tr style=\"text-align: right;\">\n",
              "      <th></th>\n",
              "      <th>rea_sembradaha</th>\n",
              "    </tr>\n",
              "    <tr>\n",
              "      <th>grupo_cultivo</th>\n",
              "      <th></th>\n",
              "    </tr>\n",
              "  </thead>\n",
              "  <tbody>\n",
              "    <tr>\n",
              "      <th>OTROS PERMANENTES</th>\n",
              "      <td>1.893753e+07</td>\n",
              "    </tr>\n",
              "    <tr>\n",
              "      <th>CEREALES</th>\n",
              "      <td>1.475517e+07</td>\n",
              "    </tr>\n",
              "    <tr>\n",
              "      <th>TUBERCULOS Y PLATANOS</th>\n",
              "      <td>1.061708e+07</td>\n",
              "    </tr>\n",
              "    <tr>\n",
              "      <th>OLEAGINOSAS</th>\n",
              "      <td>6.112380e+06</td>\n",
              "    </tr>\n",
              "    <tr>\n",
              "      <th>FRUTALES</th>\n",
              "      <td>4.874503e+06</td>\n",
              "    </tr>\n",
              "    <tr>\n",
              "      <th>LEGUMINOSAS</th>\n",
              "      <td>2.635698e+06</td>\n",
              "    </tr>\n",
              "    <tr>\n",
              "      <th>HORTALIZAS</th>\n",
              "      <td>1.047659e+06</td>\n",
              "    </tr>\n",
              "    <tr>\n",
              "      <th>FIBRAS</th>\n",
              "      <td>6.422523e+05</td>\n",
              "    </tr>\n",
              "    <tr>\n",
              "      <th>FORESTALES</th>\n",
              "      <td>5.593788e+05</td>\n",
              "    </tr>\n",
              "    <tr>\n",
              "      <th>OTROS TRANSITORIOS</th>\n",
              "      <td>9.084350e+04</td>\n",
              "    </tr>\n",
              "  </tbody>\n",
              "</table>\n",
              "</div><br><label><b>dtype:</b> float64</label>"
            ]
          },
          "metadata": {}
        },
        {
          "output_type": "display_data",
          "data": {
            "text/plain": [
              "<Figure size 1200x600 with 1 Axes>"
            ],
            "image/png": "[encoded data removed]"
          },
          "metadata": {}
        }
      ]
    },
    {
      "cell_type": "markdown",
      "source": [
        "# Los principales cultivos en \"Otros permanentes\" por Area sembrada."
      ],
      "metadata": {
        "id": "rF2n8uZrKNtL"
      }
    },
    {
      "cell_type": "code",
      "metadata": {
        "colab": {
          "base_uri": "https://localhost:8080/",
          "height": 342
        },
        "id": "ece18d51",
        "outputId": "6b0cdaac-7470-4e26-e4ac-0eb7f102ef9b"
      },
      "source": [
        "df_otros_permanentes = df_final[df_final['grupo_cultivo'] == 'OTROS PERMANENTES']\n",
        "display(df_otros_permanentes.head())"
      ],
      "execution_count": null,
      "outputs": [
        {
          "output_type": "display_data",
          "data": {
            "text/plain": [
              "       cdigo_departamento departamento  cdigo_municipio municipio  \\\n",
              "32832                   5    ANTIOQUIA             5045  APARTADO   \n",
              "32833                   5    ANTIOQUIA             5837     TURBO   \n",
              "32834                   5    ANTIOQUIA             5425     MACEO   \n",
              "32835                   5    ANTIOQUIA             5885      YALI   \n",
              "32836                   5    ANTIOQUIA             5490   NECOCLI   \n",
              "\n",
              "           grupo_cultivo subgrupo_de_cultivo cultivo desagregacin_cultivo  \\\n",
              "32832  OTROS PERMANENTES               CACAO   CACAO                CACAO   \n",
              "32833  OTROS PERMANENTES               CACAO   CACAO                CACAO   \n",
              "32834  OTROS PERMANENTES               CACAO   CACAO                CACAO   \n",
              "32835  OTROS PERMANENTES               CACAO   CACAO                CACAO   \n",
              "32836  OTROS PERMANENTES               CACAO   CACAO                CACAO   \n",
              "\n",
              "         ao periodo  ...  rea_cosechadaha  produccint  rendimientotha  \\\n",
              "32832  2007    2007  ...           1640.0       656.0            0.40   \n",
              "32833  2007    2007  ...            760.0       304.0            0.40   \n",
              "32834  2007    2007  ...            798.0       279.3            0.35   \n",
              "32835  2007    2007  ...            269.0       188.3            0.70   \n",
              "32836  2007    2007  ...            151.0        60.4            0.40   \n",
              "\n",
              "       estado_fsico_del_cultivo nombre_cientfico_del_cultivo  \\\n",
              "32832                GRANO SECO             THEOBROMA CACAO    \n",
              "32833                GRANO SECO             THEOBROMA CACAO    \n",
              "32834                GRANO SECO             THEOBROMA CACAO    \n",
              "32835                GRANO SECO             THEOBROMA CACAO    \n",
              "32836                GRANO SECO             THEOBROMA CACAO    \n",
              "\n",
              "      ciclo_del_cultivo rea_sembrada_ha  rea_cosechada_ha  produccin_t  \\\n",
              "32832        PERMANENTE             NaN               NaN          NaN   \n",
              "32833        PERMANENTE             NaN               NaN          NaN   \n",
              "32834        PERMANENTE             NaN               NaN          NaN   \n",
              "32835        PERMANENTE             NaN               NaN          NaN   \n",
              "32836        PERMANENTE             NaN               NaN          NaN   \n",
              "\n",
              "       rendimiento_tha  \n",
              "32832              NaN  \n",
              "32833              NaN  \n",
              "32834              NaN  \n",
              "32835              NaN  \n",
              "32836              NaN  \n",
              "\n",
              "[5 rows x 21 columns]"
            ],
            "text/html": [
              "\n",
              "  <div id=\"df-ed0bea9e-ec21-46e8-b3ae-adf232824d5d\" class=\"colab-df-container\">\n",
              "    <div>\n",
              "<style scoped>\n",
              "    .dataframe tbody tr th:only-of-type {\n",
              "        vertical-align: middle;\n",
              "    }\n",
              "\n",
              "    .dataframe tbody tr th {\n",
              "        vertical-align: top;\n",
              "    }\n",
              "\n",
              "    .dataframe thead th {\n",
              "        text-align: right;\n",
              "    }\n",
              "</style>\n",
              "<table border=\"1\" class=\"dataframe\">\n",
              "  <thead>\n",
              "    <tr style=\"text-align: right;\">\n",
              "      <th></th>\n",
              "      <th>cdigo_departamento</th>\n",
              "      <th>departamento</th>\n",
              "      <th>cdigo_municipio</th>\n",
              "      <th>municipio</th>\n",
              "      <th>grupo_cultivo</th>\n",
              "      <th>subgrupo_de_cultivo</th>\n",
              "      <th>cultivo</th>\n",
              "      <th>desagregacin_cultivo</th>\n",
              "      <th>ao</th>\n",
              "      <th>periodo</th>\n",
              "      <th>...</th>\n",
              "      <th>rea_cosechadaha</th>\n",
              "      <th>produccint</th>\n",
              "      <th>rendimientotha</th>\n",
              "      <th>estado_fsico_del_cultivo</th>\n",
              "      <th>nombre_cientfico_del_cultivo</th>\n",
              "      <th>ciclo_del_cultivo</th>\n",
              "      <th>rea_sembrada_ha</th>\n",
              "      <th>rea_cosechada_ha</th>\n",
              "      <th>produccin_t</th>\n",
              "      <th>rendimiento_tha</th>\n",
              "    </tr>\n",
              "  </thead>\n",
              "  <tbody>\n",
              "    <tr>\n",
              "      <th>32832</th>\n",
              "      <td>5</td>\n",
              "      <td>ANTIOQUIA</td>\n",
              "      <td>5045</td>\n",
              "      <td>APARTADO</td>\n",
              "      <td>OTROS PERMANENTES</td>\n",
              "      <td>CACAO</td>\n",
              "      <td>CACAO</td>\n",
              "      <td>CACAO</td>\n",
              "      <td>2007</td>\n",
              "      <td>2007</td>\n",
              "      <td>...</td>\n",
              "      <td>1640.0</td>\n",
              "      <td>656.0</td>\n",
              "      <td>0.40</td>\n",
              "      <td>GRANO SECO</td>\n",
              "      <td>THEOBROMA CACAO</td>\n",
              "      <td>PERMANENTE</td>\n",
              "      <td>NaN</td>\n",
              "      <td>NaN</td>\n",
              "      <td>NaN</td>\n",
              "      <td>NaN</td>\n",
              "    </tr>\n",
              "    <tr>\n",
              "      <th>32833</th>\n",
              "      <td>5</td>\n",
              "      <td>ANTIOQUIA</td>\n",
              "      <td>5837</td>\n",
              "      <td>TURBO</td>\n",
              "      <td>OTROS PERMANENTES</td>\n",
              "      <td>CACAO</td>\n",
              "      <td>CACAO</td>\n",
              "      <td>CACAO</td>\n",
              "      <td>2007</td>\n",
              "      <td>2007</td>\n",
              "      <td>...</td>\n",
              "      <td>760.0</td>\n",
              "      <td>304.0</td>\n",
              "      <td>0.40</td>\n",
              "      <td>GRANO SECO</td>\n",
              "      <td>THEOBROMA CACAO</td>\n",
              "      <td>PERMANENTE</td>\n",
              "      <td>NaN</td>\n",
              "      <td>NaN</td>\n",
              "      <td>NaN</td>\n",
              "      <td>NaN</td>\n",
              "    </tr>\n",
              "    <tr>\n",
              "      <th>32834</th>\n",
              "      <td>5</td>\n",
              "      <td>ANTIOQUIA</td>\n",
              "      <td>5425</td>\n",
              "      <td>MACEO</td>\n",
              "      <td>OTROS PERMANENTES</td>\n",
              "      <td>CACAO</td>\n",
              "      <td>CACAO</td>\n",
              "      <td>CACAO</td>\n",
              "      <td>2007</td>\n",
              "      <td>2007</td>\n",
              "      <td>...</td>\n",
              "      <td>798.0</td>\n",
              "      <td>279.3</td>\n",
              "      <td>0.35</td>\n",
              "      <td>GRANO SECO</td>\n",
              "      <td>THEOBROMA CACAO</td>\n",
              "      <td>PERMANENTE</td>\n",
              "      <td>NaN</td>\n",
              "      <td>NaN</td>\n",
              "      <td>NaN</td>\n",
              "      <td>NaN</td>\n",
              "    </tr>\n",
              "    <tr>\n",
              "      <th>32835</th>\n",
              "      <td>5</td>\n",
              "      <td>ANTIOQUIA</td>\n",
              "      <td>5885</td>\n",
              "      <td>YALI</td>\n",
              "      <td>OTROS PERMANENTES</td>\n",
              "      <td>CACAO</td>\n",
              "      <td>CACAO</td>\n",
              "      <td>CACAO</td>\n",
              "      <td>2007</td>\n",
              "      <td>2007</td>\n",
              "      <td>...</td>\n",
              "      <td>269.0</td>\n",
              "      <td>188.3</td>\n",
              "      <td>0.70</td>\n",
              "      <td>GRANO SECO</td>\n",
              "      <td>THEOBROMA CACAO</td>\n",
              "      <td>PERMANENTE</td>\n",
              "      <td>NaN</td>\n",
              "      <td>NaN</td>\n",
              "      <td>NaN</td>\n",
              "      <td>NaN</td>\n",
              "    </tr>\n",
              "    <tr>\n",
              "      <th>32836</th>\n",
              "      <td>5</td>\n",
              "      <td>ANTIOQUIA</td>\n",
              "      <td>5490</td>\n",
              "      <td>NECOCLI</td>\n",
              "      <td>OTROS PERMANENTES</td>\n",
              "      <td>CACAO</td>\n",
              "      <td>CACAO</td>\n",
              "      <td>CACAO</td>\n",
              "      <td>2007</td>\n",
              "      <td>2007</td>\n",
              "      <td>...</td>\n",
              "      <td>151.0</td>\n",
              "      <td>60.4</td>\n",
              "      <td>0.40</td>\n",
              "      <td>GRANO SECO</td>\n",
              "      <td>THEOBROMA CACAO</td>\n",
              "      <td>PERMANENTE</td>\n",
              "      <td>NaN</td>\n",
              "      <td>NaN</td>\n",
              "      <td>NaN</td>\n",
              "      <td>NaN</td>\n",
              "    </tr>\n",
              "  </tbody>\n",
              "</table>\n",
              "<p>5 rows × 21 columns</p>\n",
              "</div>\n",
              "    <div class=\"colab-df-buttons\">\n",
              "\n",
              "  <div class=\"colab-df-container\">\n",
              "    <button class=\"colab-df-convert\" onclick=\"convertToInteractive('df-ed0bea9e-ec21-46e8-b3ae-adf232824d5d')\"\n",
              "            title=\"Convert this dataframe to an interactive table.\"\n",
              "            style=\"display:none;\">\n",
              "\n",
              "  <svg xmlns=\"http://www.w3.org/2000/svg\" height=\"24px\" viewBox=\"0 -960 960 960\">\n",
              "    <path d=\"M120-120v-720h720v720H120Zm60-500h600v-160H180v160Zm220 220h160v-160H400v160Zm0 220h160v-160H400v160ZM180-400h160v-160H180v160Zm440 0h160v-160H620v160ZM180-180h160v-160H180v160Zm440 0h160v-160H620v160Z\"/>\n",
              "  </svg>\n",
              "    </button>\n",
              "\n",
              "  <style>\n",
              "    .colab-df-container {\n",
              "      display:flex;\n",
              "      gap: 12px;\n",
              "    }\n",
              "\n",
              "    .colab-df-convert {\n",
              "      background-color: #E8F0FE;\n",
              "      border: none;\n",
              "      border-radius: 50%;\n",
              "      cursor: pointer;\n",
              "      display: none;\n",
              "      fill: #1967D2;\n",
              "      height: 32px;\n",
              "      padding: 0 0 0 0;\n",
              "      width: 32px;\n",
              "    }\n",
              "\n",
              "    .colab-df-convert:hover {\n",
              "      background-color: #E2EBFA;\n",
              "      box-shadow: 0px 1px 2px rgba(60, 64, 67, 0.3), 0px 1px 3px 1px rgba(60, 64, 67, 0.15);\n",
              "      fill: #174EA6;\n",
              "    }\n",
              "\n",
              "    .colab-df-buttons div {\n",
              "      margin-bottom: 4px;\n",
              "    }\n",
              "\n",
              "    [theme=dark] .colab-df-convert {\n",
              "      background-color: #3B4455;\n",
              "      fill: #D2E3FC;\n",
              "    }\n",
              "\n",
              "    [theme=dark] .colab-df-convert:hover {\n",
              "      background-color: #434B5C;\n",
              "      box-shadow: 0px 1px 3px 1px rgba(0, 0, 0, 0.15);\n",
              "      filter: drop-shadow(0px 1px 2px rgba(0, 0, 0, 0.3));\n",
              "      fill: #FFFFFF;\n",
              "    }\n",
              "  </style>\n",
              "\n",
              "    <script>\n",
              "      const buttonEl =\n",
              "        document.querySelector('#df-ed0bea9e-ec21-46e8-b3ae-adf232824d5d button.colab-df-convert');\n",
              "      buttonEl.style.display =\n",
              "        google.colab.kernel.accessAllowed ? 'block' : 'none';\n",
              "\n",
              "      async function convertToInteractive(key) {\n",
              "        const element = document.querySelector('#df-ed0bea9e-ec21-46e8-b3ae-adf232824d5d');\n",
              "        const dataTable =\n",
              "          await google.colab.kernel.invokeFunction('convertToInteractive',\n",
              "                                                    [key], {});\n",
              "        if (!dataTable) return;\n",
              "\n",
              "        const docLinkHtml = 'Like what you see? Visit the ' +\n",
              "          '<a target=\"_blank\" href=https://colab.research.google.com/notebooks/data_table.ipynb>data table notebook</a>'\n",
              "          + ' to learn more about interactive tables.';\n",
              "        element.innerHTML = '';\n",
              "        dataTable['output_type'] = 'display_data';\n",
              "        await google.colab.output.renderOutput(dataTable, element);\n",
              "        const docLink = document.createElement('div');\n",
              "        docLink.innerHTML = docLinkHtml;\n",
              "        element.appendChild(docLink);\n",
              "      }\n",
              "    </script>\n",
              "  </div>\n",
              "\n",
              "\n",
              "    <div id=\"df-2145f7ab-9df2-47ae-829a-575944da1233\">\n",
              "      <button class=\"colab-df-quickchart\" onclick=\"quickchart('df-2145f7ab-9df2-47ae-829a-575944da1233')\"\n",
              "                title=\"Suggest charts\"\n",
              "                style=\"display:none;\">\n",
              "\n",
              "<svg xmlns=\"http://www.w3.org/2000/svg\" height=\"24px\"viewBox=\"0 0 24 24\"\n",
              "     width=\"24px\">\n",
              "    <g>\n",
              "        <path d=\"M19 3H5c-1.1 0-2 .9-2 2v14c0 1.1.9 2 2 2h14c1.1 0 2-.9 2-2V5c0-1.1-.9-2-2-2zM9 17H7v-7h2v7zm4 0h-2V7h2v10zm4 0h-2v-4h2v4z\"/>\n",
              "    </g>\n",
              "</svg>\n",
              "      </button>\n",
              "\n",
              "<style>\n",
              "  .colab-df-quickchart {\n",
              "      --bg-color: #E8F0FE;\n",
              "      --fill-color: #1967D2;\n",
              "      --hover-bg-color: #E2EBFA;\n",
              "      --hover-fill-color: #174EA6;\n",
              "      --disabled-fill-color: #AAA;\n",
              "      --disabled-bg-color: #DDD;\n",
              "  }\n",
              "\n",
              "  [theme=dark] .colab-df-quickchart {\n",
              "      --bg-color: #3B4455;\n",
              "      --fill-color: #D2E3FC;\n",
              "      --hover-bg-color: #434B5C;\n",
              "      --hover-fill-color: #FFFFFF;\n",
              "      --disabled-bg-color: #3B4455;\n",
              "      --disabled-fill-color: #666;\n",
              "  }\n",
              "\n",
              "  .colab-df-quickchart {\n",
              "    background-color: var(--bg-color);\n",
              "    border: none;\n",
              "    border-radius: 50%;\n",
              "    cursor: pointer;\n",
              "    display: none;\n",
              "    fill: var(--fill-color);\n",
              "    height: 32px;\n",
              "    padding: 0;\n",
              "    width: 32px;\n",
              "  }\n",
              "\n",
              "  .colab-df-quickchart:hover {\n",
              "    background-color: var(--hover-bg-color);\n",
              "    box-shadow: 0 1px 2px rgba(60, 64, 67, 0.3), 0 1px 3px 1px rgba(60, 64, 67, 0.15);\n",
              "    fill: var(--button-hover-fill-color);\n",
              "  }\n",
              "\n",
              "  .colab-df-quickchart-complete:disabled,\n",
              "  .colab-df-quickchart-complete:disabled:hover {\n",
              "    background-color: var(--disabled-bg-color);\n",
              "    fill: var(--disabled-fill-color);\n",
              "    box-shadow: none;\n",
              "  }\n",
              "\n",
              "  .colab-df-spinner {\n",
              "    border: 2px solid var(--fill-color);\n",
              "    border-color: transparent;\n",
              "    border-bottom-color: var(--fill-color);\n",
              "    animation:\n",
              "      spin 1s steps(1) infinite;\n",
              "  }\n",
              "\n",
              "  @keyframes spin {\n",
              "    0% {\n",
              "      border-color: transparent;\n",
              "      border-bottom-color: var(--fill-color);\n",
              "      border-left-color: var(--fill-color);\n",
              "    }\n",
              "    20% {\n",
              "      border-color: transparent;\n",
              "      border-left-color: var(--fill-color);\n",
              "      border-top-color: var(--fill-color);\n",
              "    }\n",
              "    30% {\n",
              "      border-color: transparent;\n",
              "      border-left-color: var(--fill-color);\n",
              "      border-top-color: var(--fill-color);\n",
              "      border-right-color: var(--fill-color);\n",
              "    }\n",
              "    40% {\n",
              "      border-color: transparent;\n",
              "      border-right-color: var(--fill-color);\n",
              "      border-top-color: var(--fill-color);\n",
              "    }\n",
              "    60% {\n",
              "      border-color: transparent;\n",
              "      border-right-color: var(--fill-color);\n",
              "    }\n",
              "    80% {\n",
              "      border-color: transparent;\n",
              "      border-right-color: var(--fill-color);\n",
              "      border-bottom-color: var(--fill-color);\n",
              "    }\n",
              "    90% {\n",
              "      border-color: transparent;\n",
              "      border-bottom-color: var(--fill-color);\n",
              "    }\n",
              "  }\n",
              "</style>\n",
              "\n",
              "      <script>\n",
              "        async function quickchart(key) {\n",
              "          const quickchartButtonEl =\n",
              "            document.querySelector('#' + key + ' button');\n",
              "          quickchartButtonEl.disabled = true;  // To prevent multiple clicks.\n",
              "          quickchartButtonEl.classList.add('colab-df-spinner');\n",
              "          try {\n",
              "            const charts = await google.colab.kernel.invokeFunction(\n",
              "                'suggestCharts', [key], {});\n",
              "          } catch (error) {\n",
              "            console.error('Error during call to suggestCharts:', error);\n",
              "          }\n",
              "          quickchartButtonEl.classList.remove('colab-df-spinner');\n",
              "          quickchartButtonEl.classList.add('colab-df-quickchart-complete');\n",
              "        }\n",
              "        (() => {\n",
              "          let quickchartButtonEl =\n",
              "            document.querySelector('#df-2145f7ab-9df2-47ae-829a-575944da1233 button');\n",
              "          quickchartButtonEl.style.display =\n",
              "            google.colab.kernel.accessAllowed ? 'block' : 'none';\n",
              "        })();\n",
              "      </script>\n",
              "    </div>\n",
              "\n",
              "    </div>\n",
              "  </div>\n"
            ],
            "application/vnd.google.colaboratory.intrinsic+json": {
              "type": "dataframe"
            }
          },
          "metadata": {}
        }
      ]
    },
    {
      "cell_type": "code",
      "metadata": {
        "id": "6dec7c0e"
      },
      "source": [
        "cultivos_otros_permanentes = df_otros_permanentes.groupby('cultivo')['rea_sembradaha'].sum()"
      ],
      "execution_count": null,
      "outputs": []
    },
    {
      "cell_type": "code",
      "metadata": {
        "colab": {
          "base_uri": "https://localhost:8080/",
          "height": 607
        },
        "id": "b9d75c7d",
        "outputId": "8be1179a-9f85-465d-e470-2055aad1f871"
      },
      "source": [
        "plt.figure(figsize=(12, 6))\n",
        "sns.barplot(x=top_10_otros_permanentes.index, y=top_10_otros_permanentes.values, hue=top_10_otros_permanentes.index, palette='viridis', legend=False)\n",
        "plt.title('Los 10 Principales Cultivos en \"Otros Permanentes\" por Área Sembrada')\n",
        "plt.xlabel('Cultivo')\n",
        "plt.ylabel('Área Sembrada (ha)')\n",
        "plt.xticks(rotation=45, ha='right')\n",
        "plt.tight_layout()\n",
        "plt.show()"
      ],
      "execution_count": null,
      "outputs": [
        {
          "output_type": "display_data",
          "data": {
            "text/plain": [
              "<Figure size 1200x600 with 1 Axes>"
            ],
            "image/png": "[encoded data removed]"
          },
          "metadata": {}
        }
      ]
    }
  ]
}